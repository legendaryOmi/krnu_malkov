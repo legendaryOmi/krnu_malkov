{
 "cells": [
  {
   "cell_type": "markdown",
   "id": "0d493ba7",
   "metadata": {},
   "source": [
    "Лабораторна робота №2. Функція print(). Автор: Мальков А. А., АКІТ-21-2\n",
    "\n",
    "Мета: навчитися писати і запускати найпростіші програми на Python з використанням функції print()\n",
    "\n",
    "Код завдання:"
   ]
  },
  {
   "cell_type": "code",
   "execution_count": 6,
   "id": "5d98c956",
   "metadata": {},
   "outputs": [
    {
     "name": "stdout",
     "output_type": "stream",
     "text": [
      "=== Пункт №1 ========================================\n",
      "Programming***Essential***in...Python\n",
      "=== Пункт №2 ========================================\n",
      "     *\n",
      "   *   *\n",
      " *       *\n",
      "***     ***\n",
      "   *   *\n",
      "   *   *\n",
      "   *   *\n",
      "   *****\n",
      "=== Пункт №3 ========================================\n",
      "I'm student \n",
      "\n",
      "=== Пункт №4 ========================================\n",
      "\"I'm\"\n",
      "\"\"learning\"\"\n",
      "\"\"\"python\"\"\"\n",
      "=== Пункт №5 ========================================\n",
      "50000000000\n",
      "=== Пункт №6 ========================================\n",
      "7770000000000000000\n",
      "=====================================================\n"
     ]
    }
   ],
   "source": [
    "print(\"=== Пункт №1\", \"=\"*40)\n",
    "print(\"Programming\", \"Essential\", \"in\", sep=\"***\", end=\"...\")\n",
    "print(\"Python\",)\n",
    "print(\"=== Пункт №2\", \"=\"*40)\n",
    "print(\"     *\", \"   *   *\", \" *       *\", \"***     ***\", \"   *   *\", \"   *   *\", \"   *   *\", \"   *****\", sep=\"\\n\")\n",
    "print(\"=== Пункт №3\", \"=\"*40)\n",
    "print(\"I'm student\", \"\\n\")\n",
    "print(\"=== Пункт №4\", \"=\"*40)\n",
    "print(\"\\\"I'm\\\"\", \"\\\"\\\"learning\\\"\\\"\", \"\\\"\\\"\\\"python\\\"\\\"\\\"\", sep=\"\\n\")\n",
    "print(\"=== Пункт №5\", \"=\"*40)\n",
    "result = 500 * (10 ** 8)\n",
    "print(result)\n",
    "print(\"=== Пункт №6\", \"=\"*40)\n",
    "result = 777 * (10 ** 16)\n",
    "print(result)\n",
    "print(\"=\"*53)"
   ]
  },
  {
   "cell_type": "markdown",
   "id": "4c4172d8",
   "metadata": {},
   "source": [
    "Виснок. Опрацьовано робота з функцією print() у Python."
   ]
  }
 ],
 "metadata": {
  "kernelspec": {
   "display_name": "Python 3 (ipykernel)",
   "language": "python",
   "name": "python3"
  },
  "language_info": {
   "codemirror_mode": {
    "name": "ipython",
    "version": 3
   },
   "file_extension": ".py",
   "mimetype": "text/x-python",
   "name": "python",
   "nbconvert_exporter": "python",
   "pygments_lexer": "ipython3",
   "version": "3.11.5"
  }
 },
 "nbformat": 4,
 "nbformat_minor": 5
}
